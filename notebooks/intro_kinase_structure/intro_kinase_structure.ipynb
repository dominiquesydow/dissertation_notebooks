{
 "cells": [
  {
   "cell_type": "markdown",
   "id": "babb16d6-82e7-4a5a-81fd-f18c1afae044",
   "metadata": {},
   "source": [
    "# Intro: Kinase structure\n",
    "\n",
    "Create figure for dissertation illustrating the key structural features of kinase."
   ]
  },
  {
   "cell_type": "code",
   "execution_count": null,
   "id": "88a1d8df-ffd9-467f-b491-ce3e6a481d2a",
   "metadata": {},
   "outputs": [],
   "source": [
    "from opencadd.structure.pocket import PocketKlifs, PocketViewer\n",
    "from opencadd.databases.klifs import setup_remote"
   ]
  },
  {
   "cell_type": "code",
   "execution_count": null,
   "id": "cd5bc28d-4d81-462f-af52-36cdd4bef55f",
   "metadata": {},
   "outputs": [],
   "source": [
    "klifs = setup_remote()"
   ]
  },
  {
   "cell_type": "code",
   "execution_count": null,
   "id": "752787e7-82a5-48c6-8491-2484867c545b",
   "metadata": {},
   "outputs": [],
   "source": [
    "def show(\n",
    "    structure_klifs_id,\n",
    "    ligand_expo_id,\n",
    "    residues=None,\n",
    "    show_ligand=True\n",
    "):\n",
    "    \n",
    "    # Get structure and pocket\n",
    "    pocket = PocketKlifs.from_structure_klifs_id(structure_klifs_id)\n",
    "\n",
    "    # Show pocket\n",
    "    viewer = PocketViewer()\n",
    "    viewer.add_pocket(pocket, ligand_expo_id=ligand_expo_id, show_pocket_center=False)\n",
    "    viewer.viewer.center(ligand_expo_id)\n",
    "    viewer.viewer.camera = \"orthographic\"\n",
    "    \n",
    "    if show_ligand:\n",
    "        viewer.viewer.add_ball_and_stick(selection=ligand_expo_id)\n",
    "    \n",
    "    if residues is not None:\n",
    "        pocket = klifs.pockets.by_structure_klifs_id(structure_klifs_id)\n",
    "        residues_pdb = pocket[\n",
    "            pocket[\"residue.klifs_id\"].isin(residues)\n",
    "        ][\"residue.id\"].to_list()\n",
    "        \n",
    "        for residue in residues_pdb:\n",
    "            viewer.viewer.add_ball_and_stick(selection=str(residue))\n",
    "    \n",
    "    return viewer"
   ]
  },
  {
   "cell_type": "markdown",
   "id": "09beb31e-7774-4d0c-a07d-f4448bc5f05c",
   "metadata": {},
   "source": [
    "## CDK2 with ATP - full structure\n",
    "\n",
    "https://klifs.net/details.php?structure_id=4367"
   ]
  },
  {
   "cell_type": "code",
   "execution_count": null,
   "id": "d63e0374-500c-4ec7-a2db-5cefe0dfc752",
   "metadata": {},
   "outputs": [],
   "source": [
    "structure_klifs_id = 4367\n",
    "ligand_expo_id = \"ATP\""
   ]
  },
  {
   "cell_type": "code",
   "execution_count": null,
   "id": "95cd60cd-88a8-4285-9d40-4a5f507a08f1",
   "metadata": {},
   "outputs": [],
   "source": [
    "# Key residues: GK (45)\n",
    "residues = [45]"
   ]
  },
  {
   "cell_type": "code",
   "execution_count": null,
   "id": "d9790682-b30e-4324-a307-206750707709",
   "metadata": {},
   "outputs": [],
   "source": [
    "viewer1 = show(structure_klifs_id, ligand_expo_id, residues, show_ligand=False)\n",
    "viewer1.viewer"
   ]
  },
  {
   "cell_type": "code",
   "execution_count": null,
   "id": "6ef21838-4275-4c5f-b496-a4cc2addaf9b",
   "metadata": {},
   "outputs": [],
   "source": [
    "v1.download_image(\n",
    "    \"structure_cdk2_atp.png\",\n",
    "    factor=4,\n",
    "    trim=True,\n",
    "    transparent=True\n",
    ")"
   ]
  },
  {
   "cell_type": "markdown",
   "id": "641b2dce-0278-4ef6-beaa-11118fcfd095",
   "metadata": {},
   "source": [
    "## CDK2 with ATP - pocket close-up\n",
    "\n",
    "https://klifs.net/details.php?structure_id=4367"
   ]
  },
  {
   "cell_type": "code",
   "execution_count": null,
   "id": "6f687441-dd7b-47e0-b6e2-4b8884d88170",
   "metadata": {},
   "outputs": [],
   "source": [
    "structure_klifs_id = 4367\n",
    "ligand_expo_id = \"ATP\""
   ]
  },
  {
   "cell_type": "code",
   "execution_count": null,
   "id": "e0cef1d0-e45d-47ca-a450-9a89e23df1f9",
   "metadata": {},
   "outputs": [],
   "source": [
    "# Key residues: K17, E24, D81, F82 \n",
    "residues = [17, 24, 81, 82]"
   ]
  },
  {
   "cell_type": "code",
   "execution_count": null,
   "id": "6336b3b8-9659-4ce2-9f6c-0f7b68a35e38",
   "metadata": {},
   "outputs": [],
   "source": [
    "viewer2 = show(structure_klifs_id, ligand_expo_id, residues)\n",
    "viewer2.viewer"
   ]
  },
  {
   "cell_type": "code",
   "execution_count": null,
   "id": "3dc368e9-32a3-4383-86c2-63ac7fff1f3a",
   "metadata": {},
   "outputs": [],
   "source": [
    "viewer2.viewer.download_image(\n",
    "    \"pocket_cdk2_atp.png\",\n",
    "    factor=4,\n",
    "    trim=True,\n",
    "    transparent=True\n",
    ")"
   ]
  },
  {
   "cell_type": "markdown",
   "id": "2827b1dd-4d48-4a62-aa71-181fb9137e40",
   "metadata": {},
   "source": [
    "## EGFR with IRE - pocket close-up\n",
    "\n",
    "https://klifs.net/details.php?structure_id=823"
   ]
  },
  {
   "cell_type": "code",
   "execution_count": null,
   "id": "278e67d1-ce15-4cc7-bb8e-324718a91dfb",
   "metadata": {},
   "outputs": [],
   "source": [
    "structure_klifs_id = 823\n",
    "ligand_expo_id = \"IRE\""
   ]
  },
  {
   "cell_type": "code",
   "execution_count": null,
   "id": "1e281169-8539-444f-b4db-32ea61cb13f3",
   "metadata": {},
   "outputs": [],
   "source": [
    "# Key residues: K17, E24, D81, F82 \n",
    "residues = [17, 24, 81, 82]"
   ]
  },
  {
   "cell_type": "code",
   "execution_count": null,
   "id": "155fac95-525d-44b3-a338-2e65c96a7902",
   "metadata": {},
   "outputs": [],
   "source": [
    "viewer3 = show(structure_klifs_id, ligand_expo_id, residues)\n",
    "\n",
    "viewer3.viewer"
   ]
  },
  {
   "cell_type": "code",
   "execution_count": null,
   "id": "2593523f-1a72-4978-976f-718e6dbfedd7",
   "metadata": {},
   "outputs": [],
   "source": [
    "viewer3.viewer.download_image(\n",
    "    \"pocket_egfr_ire.png\",\n",
    "    factor=4,\n",
    "    trim=True,\n",
    "    transparent=True\n",
    ")"
   ]
  },
  {
   "cell_type": "markdown",
   "id": "577192ac-5a9e-467b-bebf-5a03053c8f4c",
   "metadata": {},
   "source": [
    "## ABL1 with STI - pocket close-up\n",
    "\n",
    "https://klifs.net/details.php?structure_id=1092"
   ]
  },
  {
   "cell_type": "code",
   "execution_count": null,
   "id": "2fb0d6f7-7fa0-4b8c-b778-c46987415e5e",
   "metadata": {},
   "outputs": [],
   "source": [
    "structure_klifs_id = 1092\n",
    "ligand_expo_id = \"STI\""
   ]
  },
  {
   "cell_type": "code",
   "execution_count": null,
   "id": "4939f9fd-3bc8-44ee-98b4-826c7435296d",
   "metadata": {},
   "outputs": [],
   "source": [
    "# Key residues: K17, E24, D81, F82 \n",
    "residues = [17, 24, 81, 82]"
   ]
  },
  {
   "cell_type": "code",
   "execution_count": null,
   "id": "6eb67141-e619-4940-a338-0428ef573564",
   "metadata": {},
   "outputs": [],
   "source": [
    "viewer4 = show(structure_klifs_id, ligand_expo_id, residues)\n",
    "v4 = viewer4.viewer\n",
    "v4.center(ligand_expo_id)\n",
    "v4"
   ]
  },
  {
   "cell_type": "code",
   "execution_count": null,
   "id": "fc63d301-317e-4742-bf4e-584fd9ae18cd",
   "metadata": {},
   "outputs": [],
   "source": [
    "v4.download_image(\n",
    "    \"pocket_abl1_sti.png\",\n",
    "    factor=4,\n",
    "    trim=True,\n",
    "    transparent=True\n",
    ")"
   ]
  },
  {
   "cell_type": "code",
   "execution_count": null,
   "id": "643f58ea-0350-47ee-b991-f89cf060457b",
   "metadata": {},
   "outputs": [],
   "source": []
  }
 ],
 "metadata": {
  "kernelspec": {
   "display_name": "Python 3 (ipykernel)",
   "language": "python",
   "name": "python3"
  },
  "language_info": {
   "codemirror_mode": {
    "name": "ipython",
    "version": 3
   },
   "file_extension": ".py",
   "mimetype": "text/x-python",
   "name": "python",
   "nbconvert_exporter": "python",
   "pygments_lexer": "ipython3",
   "version": "3.9.13"
  }
 },
 "nbformat": 4,
 "nbformat_minor": 5
}
