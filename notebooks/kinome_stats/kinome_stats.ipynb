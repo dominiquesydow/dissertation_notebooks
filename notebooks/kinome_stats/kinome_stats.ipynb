{
 "cells": [
  {
   "cell_type": "markdown",
   "metadata": {},
   "source": [
    "# Kinome stats\n",
    "\n",
    "Code taken from https://github.com/volkamerlab/teachopencadd/tree/master/teachopencadd/talktorials/T023_what_is_a_kinase"
   ]
  },
  {
   "cell_type": "code",
   "execution_count": 1,
   "metadata": {},
   "outputs": [],
   "source": [
    "from pathlib import Path\n",
    "\n",
    "import pandas as pd\n",
    "import opencadd"
   ]
  },
  {
   "cell_type": "markdown",
   "metadata": {},
   "source": [
    "## KinMap data\n",
    "\n",
    "There are some KinMap trees shown in this notebook. The code below generates the KinMap CSV files to be uploaded to KinMap:\n",
    "http://www.kinhub.org/kinmap.\n",
    "\n",
    "**I used Safari for the KinMap download (Chrome produced blurry figures after conversion to PDF).**\n",
    "\n",
    "_Note_:\n",
    "1. Download as SVG.\n",
    "2. Open SVG with a text editor and remove `TypicalHoverControls` and `AtypicalHoverControls` tags.\n",
    "3. Download as SVG and convert to PDF in your terminal (Linux) via `convert my_kinmap_figure.svg my_kinmap_figure.pdf`.\n",
    "4. If SVG download doesn't render the figure properly, open a text editor and copy paste this into the SVG file: `xmlns:xlink=\"http://www.w3.org/1999/xlink\"`, resulting in something similar to this in the first few lines:\n",
    "\n",
    "    `<svg id=\"svgCopy\" viewBox=\"0 0 1591 1959\" preserveAspectRatio=\"xMinYMin meet\" xmlns=\"http://www.w3.org/2000/svg\" xmlns:xlink=\"http://www.w3.org/1999/xlink\" style=\"\"><desc>Created with Snap</desc><defs></defs><g`\n"
   ]
  },
  {
   "cell_type": "code",
   "execution_count": 2,
   "metadata": {},
   "outputs": [],
   "source": [
    "def format_for_kinmap(kinase_names, kinase_values, size_min=10, size_max=50):\n",
    "    \"\"\"\n",
    "    Given kinase names and some associated values, generates a KinMap data file\n",
    "    that will display values as circles of size [`size_min`, `size_max`].\n",
    "\n",
    "    Parameters\n",
    "    ----------\n",
    "    kinase_names : list of str\n",
    "        Kinase names.\n",
    "    kinase_values : list of float\n",
    "        Some associated values, such as the number of bioactivites.\n",
    "    size_min : int\n",
    "        Minimum circle size on KinMap tree (minimum input value will be scaled to `size_min`).\n",
    "    size_max : int\n",
    "        Maximum circle size on KinMap tree (maximum input value will be scaled to `size_min`).\n",
    "\n",
    "    Returns\n",
    "    -------\n",
    "    pandas.DataFrame\n",
    "        KinMap data with columns `xName` (kinase name), `size` (circle size for KinMap tree).\n",
    "    \"\"\"\n",
    "\n",
    "    data = pd.DataFrame({\"xName\": kinase_names, \"values\": kinase_values})\n",
    "    min_ = data[\"values\"].min()\n",
    "    max_ = data[\"values\"].max()\n",
    "    print(min_, max_)\n",
    "    data[\"size\"] = data[\"values\"].apply(\n",
    "        lambda x: ((x - min_) / (max_ - min_) * size_max) + size_min\n",
    "    )\n",
    "    return data[[\"xName\", \"size\"]]"
   ]
  },
  {
   "cell_type": "markdown",
   "metadata": {},
   "source": [
    "## Number of PDB structures per kinase\n",
    "\n",
    "Generate the number of structures per kinase in the KinMap format to be mapped onto the kinome tree."
   ]
  },
  {
   "cell_type": "code",
   "execution_count": 3,
   "metadata": {
    "tags": []
   },
   "outputs": [
    {
     "name": "stdout",
     "output_type": "stream",
     "text": [
      "(12314, 46)\n"
     ]
    }
   ],
   "source": [
    "from opencadd.databases.klifs import setup_remote\n",
    "\n",
    "klifs = setup_remote()\n",
    "structures_df = klifs.structures.all_structures()\n",
    "structures_df = structures_df[structures_df[\"species.klifs\"] == \"Human\"].copy()\n",
    "print(structures_df.shape)\n",
    "\n",
    "# Get number of structures per kinase\n",
    "n_structures_per_kinase = (\n",
    "    structures_df.groupby([\"structure.pdb_id\", \"kinase.klifs_name\"])\n",
    "    .first()\n",
    "    .reset_index()\n",
    "    .groupby(\"kinase.klifs_name\")\n",
    "    .size()\n",
    ")"
   ]
  },
  {
   "cell_type": "code",
   "execution_count": 4,
   "metadata": {},
   "outputs": [
    {
     "name": "stdout",
     "output_type": "stream",
     "text": [
      "1 432\n"
     ]
    }
   ],
   "source": [
    "# Save in KinMap format\n",
    "kinmap_n_structures_per_kinase = format_for_kinmap(\n",
    "    n_structures_per_kinase.index, n_structures_per_kinase.values\n",
    ")\n",
    "\n",
    "# Formatting!\n",
    "kinmap_n_structures_per_kinase[\"xName\"] = kinmap_n_structures_per_kinase[\"xName\"].str.replace(\"-\", \"_\")\n",
    "kinmap_n_structures_per_kinase[\"xName\"] = kinmap_n_structures_per_kinase[\"xName\"].str.replace(\"DCLK1\", \"DCAMKL1\")\n",
    "\n",
    "# Save!\n",
    "kinmap_n_structures_per_kinase.to_csv(\"kinmap_n_structures_per_kinase.csv\", index=None)\n",
    "# Some kinases will not be resolved in KinMap and will be simply dropped (check manually)"
   ]
  },
  {
   "cell_type": "markdown",
   "metadata": {},
   "source": [
    "Identify the kinase which has the most structures."
   ]
  },
  {
   "cell_type": "code",
   "execution_count": 5,
   "metadata": {},
   "outputs": [
    {
     "data": {
      "text/plain": [
       "('CDK2', 432)"
      ]
     },
     "execution_count": 5,
     "metadata": {},
     "output_type": "execute_result"
    }
   ],
   "source": [
    "kinmap_n_structures_per_kinase.iloc[n_structures_per_kinase.argmax()].xName, max(\n",
    "    n_structures_per_kinase\n",
    ")"
   ]
  },
  {
   "cell_type": "markdown",
   "metadata": {},
   "source": [
    "## Number of ChEMBL bioactivities per kinase¶"
   ]
  },
  {
   "cell_type": "code",
   "execution_count": 8,
   "metadata": {},
   "outputs": [],
   "source": [
    "from opencadd.databases.klifs import setup_remote\n",
    "\n",
    "# Get bioactivity data\n",
    "path = \"https://github.com/openkinome/kinodata/releases/download/v0.3/activities-chembl29_v0.3.zip\"\n",
    "data = pd.read_csv(path, index_col=None)\n",
    "data = data[data[\"activities.standard_type\"] == \"pIC50\"]\n",
    "data = data.dropna()\n",
    "\n",
    "# Get kinase data\n",
    "klifs = setup_remote()\n",
    "kinases_df = klifs.kinases.all_kinases()\n",
    "kinases_df = kinases_df[kinases_df[\"kinase.uniprot\"] != \"0\"]\n",
    "# Some UniProt IDs have several names in KLIFS, keep only first\n",
    "kinases_df = kinases_df.groupby(\"kinase.uniprot\").first()\n",
    "\n",
    "# Map UniProt ID > kinase KLIFS name\n",
    "data = pd.merge(data, kinases_df, left_on=\"UniprotID\", right_on=\"kinase.uniprot\", how=\"left\")\n",
    "\n",
    "# Get number of activities per kinase\n",
    "n_activities_per_kinase = data.groupby(\"kinase.klifs_name\").size()"
   ]
  },
  {
   "cell_type": "code",
   "execution_count": 9,
   "metadata": {},
   "outputs": [
    {
     "name": "stdout",
     "output_type": "stream",
     "text": [
      "1 5637\n"
     ]
    }
   ],
   "source": [
    "# Save in KinMap format\n",
    "kinmap_n_activities_per_kinase = format_for_kinmap(\n",
    "    n_activities_per_kinase.index, n_activities_per_kinase.values\n",
    ")\n",
    "kinmap_n_activities_per_kinase.to_csv(\"kinmap_n_activities_per_kinase.csv\", index=None)\n",
    "# Some kinases will not be resolved in KinMap and will be simply dropped"
   ]
  }
 ],
 "metadata": {
  "kernelspec": {
   "display_name": "Python 3 (ipykernel)",
   "language": "python",
   "name": "python3"
  },
  "language_info": {
   "codemirror_mode": {
    "name": "ipython",
    "version": 3
   },
   "file_extension": ".py",
   "mimetype": "text/x-python",
   "name": "python",
   "nbconvert_exporter": "python",
   "pygments_lexer": "ipython3",
   "version": "3.9.13"
  },
  "toc-autonumbering": true,
  "widgets": {
   "application/vnd.jupyter.widget-state+json": {
    "state": {},
    "version_major": 2,
    "version_minor": 0
   }
  }
 },
 "nbformat": 4,
 "nbformat_minor": 4
}
