{
 "cells": [
  {
   "cell_type": "markdown",
   "id": "aaac6204-97c7-4367-a3cf-8eda281cf7e1",
   "metadata": {},
   "source": [
    "# PKIDB stats (2022-07-18)\n",
    "\n",
    "* PKIDB https://www.icoa.fr/pkidb/\n",
    "* PKIDB download 2002-07-18 https://www.icoa.fr/pkidb/static/download/pkidb_2022-07-18.sdf"
   ]
  },
  {
   "cell_type": "code",
   "execution_count": 1,
   "id": "bcedc285-b325-4220-9d62-46d910ab320f",
   "metadata": {},
   "outputs": [],
   "source": [
    "import numpy as np\n",
    "import pandas as pd\n",
    "import matplotlib.pyplot as plt\n",
    "from rdkit.Chem import PandasTools"
   ]
  },
  {
   "cell_type": "raw",
   "id": "876ee640-954d-4fae-b627-5070485c899f",
   "metadata": {
    "tags": []
   },
   "source": [
    "!mamba install xlrd -y"
   ]
  },
  {
   "cell_type": "code",
   "execution_count": null,
   "id": "48451e8c-3927-4181-a0d6-27664a8af394",
   "metadata": {},
   "outputs": [],
   "source": [
    "plt.rcParams['font.size'] = \"14\""
   ]
  },
  {
   "cell_type": "markdown",
   "id": "8fc3a511-9969-4bd4-b68d-5c4b532d834e",
   "metadata": {},
   "source": [
    "## Load datasets"
   ]
  },
  {
   "cell_type": "markdown",
   "id": "aecebeb6-7075-4ab1-b49d-8872fb085b92",
   "metadata": {},
   "source": [
    "### PKIDB"
   ]
  },
  {
   "cell_type": "code",
   "execution_count": 2,
   "id": "762e6bd6-566e-4d9b-aa9c-0a75f907f5f4",
   "metadata": {},
   "outputs": [
    {
     "data": {
      "text/html": [
       "<div>\n",
       "<style scoped>\n",
       "    .dataframe tbody tr th:only-of-type {\n",
       "        vertical-align: middle;\n",
       "    }\n",
       "\n",
       "    .dataframe tbody tr th {\n",
       "        vertical-align: top;\n",
       "    }\n",
       "\n",
       "    .dataframe thead th {\n",
       "        text-align: right;\n",
       "    }\n",
       "</style>\n",
       "<table border=\"1\" class=\"dataframe\">\n",
       "  <thead>\n",
       "    <tr style=\"text-align: right;\">\n",
       "      <th></th>\n",
       "      <th>BrandName</th>\n",
       "      <th>Applicants</th>\n",
       "      <th>CHEMBL_ID</th>\n",
       "      <th>Canonical_Smiles</th>\n",
       "      <th>Chirality</th>\n",
       "      <th>First_Approval</th>\n",
       "      <th>Phase</th>\n",
       "      <th>SC_Patent</th>\n",
       "      <th>Synonyms</th>\n",
       "      <th>Withdrawn</th>\n",
       "      <th>...</th>\n",
       "      <th>TPSA</th>\n",
       "      <th>LogP</th>\n",
       "      <th>RoF</th>\n",
       "      <th>Melting point</th>\n",
       "      <th>Targets</th>\n",
       "      <th>Kinase families</th>\n",
       "      <th>FDA_approved</th>\n",
       "      <th>ID</th>\n",
       "      <th>SMILES</th>\n",
       "      <th>Molecule</th>\n",
       "    </tr>\n",
       "  </thead>\n",
       "  <tbody>\n",
       "    <tr>\n",
       "      <th>0</th>\n",
       "      <td></td>\n",
       "      <td>Incyte Corporation</td>\n",
       "      <td>CHEMBL2216863</td>\n",
       "      <td>Cc1csc2n1c(=O)c(c(n2)[C@H](C)Nc3c4c([nH]cn4)nc...</td>\n",
       "      <td>Single Stereoisomer</td>\n",
       "      <td>nan</td>\n",
       "      <td>0.0</td>\n",
       "      <td>None</td>\n",
       "      <td>DEZAPELISIB | INCB040093</td>\n",
       "      <td></td>\n",
       "      <td>...</td>\n",
       "      <td>100.9</td>\n",
       "      <td>3.7</td>\n",
       "      <td>0</td>\n",
       "      <td></td>\n",
       "      <td>nan</td>\n",
       "      <td></td>\n",
       "      <td></td>\n",
       "      <td>Dezapelisib</td>\n",
       "      <td>Cc1csc2nc([C@H](C)Nc3ncnc4[nH]cnc34)c(-c3cccc(...</td>\n",
       "      <td><img data-content=\"rdkit/molecule\" src=\"data:image/png;base64,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\" alt=\"Mol\"/></td>\n",
       "    </tr>\n",
       "    <tr>\n",
       "      <th>1</th>\n",
       "      <td></td>\n",
       "      <td>Blueprint Medicines</td>\n",
       "      <td>CHEMBL4514636</td>\n",
       "      <td>C=CC(=O)N[C@H]1CCOC[C@H]1Nc1ncc2cc(-c3c(Cl)c(O...</td>\n",
       "      <td>Single Stereoisomer</td>\n",
       "      <td>nan</td>\n",
       "      <td>0.0</td>\n",
       "      <td>None</td>\n",
       "      <td>BLU-111362 | BLU-554 | BLU111362 | FISOGATINIB...</td>\n",
       "      <td></td>\n",
       "      <td>...</td>\n",
       "      <td>94.6</td>\n",
       "      <td>4.5</td>\n",
       "      <td>1</td>\n",
       "      <td></td>\n",
       "      <td>nan</td>\n",
       "      <td></td>\n",
       "      <td></td>\n",
       "      <td>Fisogatinib</td>\n",
       "      <td>C=CC(=O)N[C@H]1CCOC[C@H]1Nc1ncc2cc(-c3c(Cl)c(O...</td>\n",
       "      <td><img data-content=\"rdkit/molecule\" src=\"data:image/png;base64,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\" alt=\"Mol\"/></td>\n",
       "    </tr>\n",
       "    <tr>\n",
       "      <th>2</th>\n",
       "      <td></td>\n",
       "      <td>Pfizer</td>\n",
       "      <td>CHEMBL2103874</td>\n",
       "      <td>CNS(=O)(=O)C[C@H]1CC[C@@H](CC1)N(c2ncnc3c2cc[n...</td>\n",
       "      <td>Single Stereoisomer</td>\n",
       "      <td>nan</td>\n",
       "      <td>0.0</td>\n",
       "      <td>None</td>\n",
       "      <td>JAK-I | JAKI | OCLACITINIB | PF 03394197 | PF-...</td>\n",
       "      <td></td>\n",
       "      <td>...</td>\n",
       "      <td>91.0</td>\n",
       "      <td>1.5</td>\n",
       "      <td>0</td>\n",
       "      <td></td>\n",
       "      <td>JAK1; JAK2; JAK3</td>\n",
       "      <td>Tyr</td>\n",
       "      <td></td>\n",
       "      <td>Oclacitinib</td>\n",
       "      <td>CNS(=O)(=O)C[C@H]1CC[C@H](N(C)c2ncnc3[nH]ccc23...</td>\n",
       "      <td><img data-content=\"rdkit/molecule\" src=\"data:image/png;base64,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\" alt=\"Mol\"/></td>\n",
       "    </tr>\n",
       "    <tr>\n",
       "      <th>3</th>\n",
       "      <td></td>\n",
       "      <td>Pfizer</td>\n",
       "      <td>CHEMBL13608</td>\n",
       "      <td>Cc1c([nH]c(c1C(=O)NCCN2CCCC2)C)/C=C\\3/c4cc(ccc...</td>\n",
       "      <td>Achiral Molecule</td>\n",
       "      <td>nan</td>\n",
       "      <td>0.0</td>\n",
       "      <td>None</td>\n",
       "      <td>PALLADIA | PHA-291639 | TOCERANIB</td>\n",
       "      <td></td>\n",
       "      <td>...</td>\n",
       "      <td>77.2</td>\n",
       "      <td>3.1</td>\n",
       "      <td>0</td>\n",
       "      <td></td>\n",
       "      <td>KIT</td>\n",
       "      <td>KIT</td>\n",
       "      <td></td>\n",
       "      <td>Toceranib</td>\n",
       "      <td>Cc1[nH]c(/C=C2\\C(=O)Nc3ccc(F)cc32)c(C)c1C(=O)N...</td>\n",
       "      <td><img data-content=\"rdkit/molecule\" src=\"data:image/png;base64,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\" alt=\"Mol\"/></td>\n",
       "    </tr>\n",
       "    <tr>\n",
       "      <th>4</th>\n",
       "      <td></td>\n",
       "      <td>Deciphera Pharmaceuticals</td>\n",
       "      <td>CHEMBL3545365</td>\n",
       "      <td>c1cc(ccc1NC(=O)C2(CC2)C(=O)Nc3cc(c(cc3F)Oc4ccn...</td>\n",
       "      <td>Achiral Molecule</td>\n",
       "      <td>nan</td>\n",
       "      <td>1.0</td>\n",
       "      <td>None</td>\n",
       "      <td>ALTIRATINIB | DCC-2701 | DP-5164</td>\n",
       "      <td></td>\n",
       "      <td>...</td>\n",
       "      <td>109.4</td>\n",
       "      <td>5.0</td>\n",
       "      <td>1</td>\n",
       "      <td></td>\n",
       "      <td>MET; TEK; KDR; NTRK1</td>\n",
       "      <td>Tyr</td>\n",
       "      <td></td>\n",
       "      <td>Altiratinib</td>\n",
       "      <td>O=C(Nc1cc(Oc2cc(F)c(NC(=O)C3(C(=O)Nc4ccc(F)cc4...</td>\n",
       "      <td><img data-content=\"rdkit/molecule\" src=\"data:image/png;base64,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\" alt=\"Mol\"/></td>\n",
       "    </tr>\n",
       "  </tbody>\n",
       "</table>\n",
       "<p>5 rows × 37 columns</p>\n",
       "</div>"
      ],
      "text/plain": [
       "  BrandName                 Applicants      CHEMBL_ID  \\\n",
       "0                   Incyte Corporation  CHEMBL2216863   \n",
       "1                  Blueprint Medicines  CHEMBL4514636   \n",
       "2                               Pfizer  CHEMBL2103874   \n",
       "3                               Pfizer    CHEMBL13608   \n",
       "4            Deciphera Pharmaceuticals  CHEMBL3545365   \n",
       "\n",
       "                                    Canonical_Smiles            Chirality  \\\n",
       "0  Cc1csc2n1c(=O)c(c(n2)[C@H](C)Nc3c4c([nH]cn4)nc...  Single Stereoisomer   \n",
       "1  C=CC(=O)N[C@H]1CCOC[C@H]1Nc1ncc2cc(-c3c(Cl)c(O...  Single Stereoisomer   \n",
       "2  CNS(=O)(=O)C[C@H]1CC[C@@H](CC1)N(c2ncnc3c2cc[n...  Single Stereoisomer   \n",
       "3  Cc1c([nH]c(c1C(=O)NCCN2CCCC2)C)/C=C\\3/c4cc(ccc...     Achiral Molecule   \n",
       "4  c1cc(ccc1NC(=O)C2(CC2)C(=O)Nc3cc(c(cc3F)Oc4ccn...     Achiral Molecule   \n",
       "\n",
       "  First_Approval Phase SC_Patent  \\\n",
       "0            nan   0.0      None   \n",
       "1            nan   0.0      None   \n",
       "2            nan   0.0      None   \n",
       "3            nan   0.0      None   \n",
       "4            nan   1.0      None   \n",
       "\n",
       "                                            Synonyms Withdrawn  ...   TPSA  \\\n",
       "0                           DEZAPELISIB | INCB040093            ...  100.9   \n",
       "1  BLU-111362 | BLU-554 | BLU111362 | FISOGATINIB...            ...   94.6   \n",
       "2  JAK-I | JAKI | OCLACITINIB | PF 03394197 | PF-...            ...   91.0   \n",
       "3                  PALLADIA | PHA-291639 | TOCERANIB            ...   77.2   \n",
       "4                   ALTIRATINIB | DCC-2701 | DP-5164            ...  109.4   \n",
       "\n",
       "  LogP RoF Melting point               Targets Kinase families FDA_approved  \\\n",
       "0  3.7   0                                 nan                                \n",
       "1  4.5   1                                 nan                                \n",
       "2  1.5   0                    JAK1; JAK2; JAK3             Tyr                \n",
       "3  3.1   0                                 KIT             KIT                \n",
       "4  5.0   1                MET; TEK; KDR; NTRK1             Tyr                \n",
       "\n",
       "            ID                                             SMILES  \\\n",
       "0  Dezapelisib  Cc1csc2nc([C@H](C)Nc3ncnc4[nH]cnc34)c(-c3cccc(...   \n",
       "1  Fisogatinib  C=CC(=O)N[C@H]1CCOC[C@H]1Nc1ncc2cc(-c3c(Cl)c(O...   \n",
       "2  Oclacitinib  CNS(=O)(=O)C[C@H]1CC[C@H](N(C)c2ncnc3[nH]ccc23...   \n",
       "3    Toceranib  Cc1[nH]c(/C=C2\\C(=O)Nc3ccc(F)cc32)c(C)c1C(=O)N...   \n",
       "4  Altiratinib  O=C(Nc1cc(Oc2cc(F)c(NC(=O)C3(C(=O)Nc4ccc(F)cc4...   \n",
       "\n",
       "                                            Molecule  \n",
       "0  <img data-content=\"rdkit/molecule\" src=\"data:i...  \n",
       "1  <img data-content=\"rdkit/molecule\" src=\"data:i...  \n",
       "2  <img data-content=\"rdkit/molecule\" src=\"data:i...  \n",
       "3  <img data-content=\"rdkit/molecule\" src=\"data:i...  \n",
       "4  <img data-content=\"rdkit/molecule\" src=\"data:i...  \n",
       "\n",
       "[5 rows x 37 columns]"
      ]
     },
     "execution_count": 2,
     "metadata": {},
     "output_type": "execute_result"
    }
   ],
   "source": [
    "pkidb_df = PandasTools.LoadSDF(\n",
    "    \"data/pkidb_2022-07-18.sdf\",\n",
    "    smilesName=\"SMILES\",\n",
    "    molColName=\"Molecule\",\n",
    "    includeFingerprints=True\n",
    ")\n",
    "pkidb_df.head()"
   ]
  },
  {
   "cell_type": "markdown",
   "id": "b9243b80-c511-4c81-b744-9dfd09cec51d",
   "metadata": {},
   "source": [
    "### BRIMR"
   ]
  },
  {
   "cell_type": "code",
   "execution_count": 3,
   "id": "6ec0fac3-fe41-4373-a264-0f2f394ba70e",
   "metadata": {
    "tags": []
   },
   "outputs": [
    {
     "name": "stdout",
     "output_type": "stream",
     "text": [
      "(71, 13)\n"
     ]
    },
    {
     "data": {
      "text/html": [
       "<div>\n",
       "<style scoped>\n",
       "    .dataframe tbody tr th:only-of-type {\n",
       "        vertical-align: middle;\n",
       "    }\n",
       "\n",
       "    .dataframe tbody tr th {\n",
       "        vertical-align: top;\n",
       "    }\n",
       "\n",
       "    .dataframe thead th {\n",
       "        text-align: right;\n",
       "    }\n",
       "</style>\n",
       "<table border=\"1\" class=\"dataframe\">\n",
       "  <thead>\n",
       "    <tr style=\"text-align: right;\">\n",
       "      <th></th>\n",
       "      <th>Drug</th>\n",
       "      <th>Primary targets</th>\n",
       "      <th>Kinase</th>\n",
       "      <th>Ki (nM)j</th>\n",
       "      <th>pKi</th>\n",
       "      <th>LipEk</th>\n",
       "      <th>Nl</th>\n",
       "      <th>LEk</th>\n",
       "      <th>Targeted diseases</th>\n",
       "      <th>USFDA Drug Label</th>\n",
       "      <th>Monitor EKG</th>\n",
       "      <th>Interactions with strong</th>\n",
       "      <th>Interactions with strong.1</th>\n",
       "    </tr>\n",
       "  </thead>\n",
       "  <tbody>\n",
       "    <tr>\n",
       "      <th>0</th>\n",
       "      <td>Abemaciclib</td>\n",
       "      <td>CDK4/ 6</td>\n",
       "      <td>S/T</td>\n",
       "      <td>0.6</td>\n",
       "      <td>9.22</td>\n",
       "      <td>4.28</td>\n",
       "      <td>37</td>\n",
       "      <td>0.351</td>\n",
       "      <td>Breast cancer</td>\n",
       "      <td>https://www.accessdata.fda.gov/drugsatfda_docs...</td>\n",
       "      <td>NaN</td>\n",
       "      <td>Yes</td>\n",
       "      <td>Yes</td>\n",
       "    </tr>\n",
       "    <tr>\n",
       "      <th>1</th>\n",
       "      <td>Abrocitinib</td>\n",
       "      <td>JAK1</td>\n",
       "      <td>NRY</td>\n",
       "      <td>5.1</td>\n",
       "      <td>8.29</td>\n",
       "      <td>7.04</td>\n",
       "      <td>22</td>\n",
       "      <td>0.531</td>\n",
       "      <td>Atopic dermatitis</td>\n",
       "      <td>https://www.accessdata.fda.gov/drugsatfda_docs...</td>\n",
       "      <td>NaN</td>\n",
       "      <td>Yes</td>\n",
       "      <td>Yes</td>\n",
       "    </tr>\n",
       "    <tr>\n",
       "      <th>2</th>\n",
       "      <td>Acalabrutinib</td>\n",
       "      <td>BTK</td>\n",
       "      <td>NRY</td>\n",
       "      <td>3.1</td>\n",
       "      <td>8.51</td>\n",
       "      <td>5.2</td>\n",
       "      <td>35</td>\n",
       "      <td>0.343</td>\n",
       "      <td>Mantle cell lymphoma, chronic lymphocytic  leu...</td>\n",
       "      <td>https://www.azpicentral.com/calquence/calquenc...</td>\n",
       "      <td>NaN</td>\n",
       "      <td>Yes</td>\n",
       "      <td>Yes</td>\n",
       "    </tr>\n",
       "    <tr>\n",
       "      <th>3</th>\n",
       "      <td>Afatinib</td>\n",
       "      <td>ErbB1/2/4</td>\n",
       "      <td>RY</td>\n",
       "      <td>0.5</td>\n",
       "      <td>9.33</td>\n",
       "      <td>4.94</td>\n",
       "      <td>34</td>\n",
       "      <td>0.387</td>\n",
       "      <td>NSCLC (non-small cell lung cancer)</td>\n",
       "      <td>https://www.accessdata.fda.gov/drugsatfda_docs...</td>\n",
       "      <td>NaN</td>\n",
       "      <td>No</td>\n",
       "      <td>No</td>\n",
       "    </tr>\n",
       "    <tr>\n",
       "      <th>4</th>\n",
       "      <td>Alectinib</td>\n",
       "      <td>ALK, RET</td>\n",
       "      <td>RY</td>\n",
       "      <td>1.9</td>\n",
       "      <td>8.72</td>\n",
       "      <td>3.95</td>\n",
       "      <td>36</td>\n",
       "      <td>0.342</td>\n",
       "      <td>ALK-positive NSCLC</td>\n",
       "      <td>https://www.accessdata.fda.gov/drugsatfda_docs...</td>\n",
       "      <td>NaN</td>\n",
       "      <td>No</td>\n",
       "      <td>No</td>\n",
       "    </tr>\n",
       "  </tbody>\n",
       "</table>\n",
       "</div>"
      ],
      "text/plain": [
       "            Drug Primary targets Kinase Ki (nM)j   pKi LipEk  Nl    LEk  \\\n",
       "0    Abemaciclib         CDK4/ 6    S/T      0.6  9.22  4.28  37  0.351   \n",
       "1    Abrocitinib            JAK1    NRY      5.1  8.29  7.04  22  0.531   \n",
       "2  Acalabrutinib             BTK    NRY      3.1  8.51   5.2  35  0.343   \n",
       "3       Afatinib       ErbB1/2/4     RY      0.5  9.33  4.94  34  0.387   \n",
       "4      Alectinib        ALK, RET     RY      1.9  8.72  3.95  36  0.342   \n",
       "\n",
       "                                   Targeted diseases  \\\n",
       "0                                      Breast cancer   \n",
       "1                                  Atopic dermatitis   \n",
       "2  Mantle cell lymphoma, chronic lymphocytic  leu...   \n",
       "3                 NSCLC (non-small cell lung cancer)   \n",
       "4                                 ALK-positive NSCLC   \n",
       "\n",
       "                                    USFDA Drug Label Monitor EKG  \\\n",
       "0  https://www.accessdata.fda.gov/drugsatfda_docs...         NaN   \n",
       "1  https://www.accessdata.fda.gov/drugsatfda_docs...         NaN   \n",
       "2  https://www.azpicentral.com/calquence/calquenc...         NaN   \n",
       "3  https://www.accessdata.fda.gov/drugsatfda_docs...         NaN   \n",
       "4  https://www.accessdata.fda.gov/drugsatfda_docs...         NaN   \n",
       "\n",
       "  Interactions with strong Interactions with strong.1  \n",
       "0                      Yes                        Yes  \n",
       "1                      Yes                        Yes  \n",
       "2                      Yes                        Yes  \n",
       "3                       No                         No  \n",
       "4                       No                         No  "
      ]
     },
     "execution_count": 3,
     "metadata": {},
     "output_type": "execute_result"
    }
   ],
   "source": [
    "brimr_df = pd.read_excel(\n",
    "    \"data/FDA-approved_small_molecule_PKIs.xls\",\n",
    "    skiprows=[0,2],\n",
    "    skipfooter=14\n",
    ")\n",
    "print(brimr_df.shape)\n",
    "brimr_df.head()"
   ]
  },
  {
   "cell_type": "code",
   "execution_count": 4,
   "id": "c18ae9f8-680a-4c68-851f-e1e992e4b7df",
   "metadata": {},
   "outputs": [],
   "source": [
    "# Fix bugs\n",
    "brimr_df[\"Drug\"] = brimr_df[\"Drug\"].str.replace(\"Mobcertinib\", \"Mobocertinib\")"
   ]
  },
  {
   "cell_type": "markdown",
   "id": "90643285-78c5-4b0a-887d-10160f91bcb4",
   "metadata": {},
   "source": [
    "### Drug list for BRIMR and PKIDB"
   ]
  },
  {
   "cell_type": "code",
   "execution_count": 5,
   "id": "c5ca6867-4e01-4fbb-8141-272b7ee2b2a7",
   "metadata": {},
   "outputs": [],
   "source": [
    "brimr_drugs = brimr_df[\"Drug\"].to_list()\n",
    "pkidb_drugs = pkidb_df[pkidb_df[\"FDA_approved\"] == \"Y\"][\"ID\"].to_list()"
   ]
  },
  {
   "cell_type": "markdown",
   "id": "639e1652-2771-424b-bad8-44d4812d7e87",
   "metadata": {},
   "source": [
    "## Clinical phases (PKIDB)\n",
    "\n",
    "https://www.cancer.org/treatment/treatments-and-side-effects/clinical-trials/what-you-need-to-know/phases-of-clinical-trials.html\n",
    "\n",
    "* Phase 0 clinical trials: Exploring if and how a new drug may work\n",
    "* Phase 1 clinical trials: Is the treatment safe?\n",
    "* Phase 2 clinical trials: Does the treatment work?\n",
    "* Phase 3 clinical trials: Is it better than what’s already available?\n",
    "* Phase 4 clinical trials: What else do we need to know?\n",
    "* Intermediate steps: “Phase 1/Phase 2” clinical studies were converted to phase “1.5”"
   ]
  },
  {
   "cell_type": "code",
   "execution_count": 34,
   "id": "de897aa7-7a5c-48eb-bff8-fe4a22ae5f31",
   "metadata": {},
   "outputs": [
    {
     "data": {
      "image/png": "[encoded data removed]",
      "text/plain": [
       "<Figure size 216x360 with 1 Axes>"
      ]
     },
     "metadata": {
      "needs_background": "light"
     },
     "output_type": "display_data"
    }
   ],
   "source": [
    "ax = pkidb_df[\"Phase\"].value_counts(sort=False).plot(kind=\"bar\", color=\"cornflowerblue\", figsize=(3, 5))\n",
    "ax.set_ylabel(\"Number of kinase inhibitors\")\n",
    "ax.set_xlabel(\"Clinical phase\")\n",
    "ax.set_xticklabels([\"0\", \"I\", \"I/II\", \"II\", \"II/III\", \"III\", \"IV\"], rotation=0)\n",
    "\n",
    "plt.tight_layout()\n",
    "ax.get_figure().savefig(\"figures/pki_stats_clinical_phase.png\")"
   ]
  },
  {
   "cell_type": "code",
   "execution_count": 7,
   "id": "6c3e0b36-54a7-48b2-a066-75fd36d9e86d",
   "metadata": {},
   "outputs": [
    {
     "data": {
      "text/plain": [
       "0.0     1.32\n",
       "1.0    10.53\n",
       "1.5     3.62\n",
       "2.0    35.53\n",
       "2.5     1.64\n",
       "3.0    21.38\n",
       "4.0    25.99\n",
       "Name: Phase, dtype: float64"
      ]
     },
     "execution_count": 7,
     "metadata": {},
     "output_type": "execute_result"
    }
   ],
   "source": [
    "round(pkidb_df[\"Phase\"].value_counts(sort=False) / len(pkidb_df) * 100, 2)"
   ]
  },
  {
   "cell_type": "markdown",
   "id": "b2e3f1ba-80b4-403d-8de2-e04f1683b07e",
   "metadata": {},
   "source": [
    "Let's be strict and count x.5 phases to the lower phase."
   ]
  },
  {
   "cell_type": "code",
   "execution_count": 8,
   "id": "b2013782-2876-4116-8d15-7861de74d9a3",
   "metadata": {},
   "outputs": [],
   "source": [
    "pkidb_df[\"Phase (floor)\"] = pkidb_df[\"Phase\"].apply(lambda x: int(np.floor(float(x))))"
   ]
  },
  {
   "cell_type": "code",
   "execution_count": 9,
   "id": "cc6a7b22-3d25-4b13-9903-941e086b30ba",
   "metadata": {},
   "outputs": [
    {
     "data": {
      "text/plain": [
       "0     1.3\n",
       "1    14.1\n",
       "2    37.2\n",
       "3    21.4\n",
       "4    26.0\n",
       "Name: Phase (floor), dtype: float64"
      ]
     },
     "execution_count": 9,
     "metadata": {},
     "output_type": "execute_result"
    }
   ],
   "source": [
    "round(pkidb_df[\"Phase (floor)\"].value_counts(sort=False) / len(pkidb_df) * 100, 1)"
   ]
  },
  {
   "cell_type": "markdown",
   "id": "028262eb-b0ba-4557-b2d9-773dbcb45326",
   "metadata": {},
   "source": [
    "## FDA-approved (PKIDB)"
   ]
  },
  {
   "cell_type": "code",
   "execution_count": 10,
   "id": "fb8ce45b-64aa-49b9-bd05-f1914ceb59ef",
   "metadata": {},
   "outputs": [
    {
     "data": {
      "text/plain": [
       "Y    73\n",
       "N     2\n",
       "Name: FDA_approved, dtype: int64"
      ]
     },
     "execution_count": 10,
     "metadata": {},
     "output_type": "execute_result"
    }
   ],
   "source": [
    "pkidb_df[pkidb_df[\"First_Approval\"] != \"nan\"][\"FDA_approved\"].value_counts()"
   ]
  },
  {
   "cell_type": "code",
   "execution_count": 11,
   "id": "2636c2a1-4af9-4f82-99f1-9a6dac298df1",
   "metadata": {},
   "outputs": [
    {
     "data": {
      "text/plain": [
       "73"
      ]
     },
     "execution_count": 11,
     "metadata": {},
     "output_type": "execute_result"
    }
   ],
   "source": [
    "len(pkidb_df[pkidb_df[\"FDA_approved\"] == \"Y\"])"
   ]
  },
  {
   "cell_type": "markdown",
   "id": "c28c413a-d584-48a0-89ee-f92086270a06",
   "metadata": {},
   "source": [
    "### First approval but not FDA-approved?"
   ]
  },
  {
   "cell_type": "code",
   "execution_count": 12,
   "id": "e3514f52-1fef-4c24-bf46-da31c1a5e3b0",
   "metadata": {},
   "outputs": [
    {
     "data": {
      "text/html": [
       "<div>\n",
       "<style scoped>\n",
       "    .dataframe tbody tr th:only-of-type {\n",
       "        vertical-align: middle;\n",
       "    }\n",
       "\n",
       "    .dataframe tbody tr th {\n",
       "        vertical-align: top;\n",
       "    }\n",
       "\n",
       "    .dataframe thead th {\n",
       "        text-align: right;\n",
       "    }\n",
       "</style>\n",
       "<table border=\"1\" class=\"dataframe\">\n",
       "  <thead>\n",
       "    <tr style=\"text-align: right;\">\n",
       "      <th></th>\n",
       "      <th>BrandName</th>\n",
       "      <th>Applicants</th>\n",
       "      <th>CHEMBL_ID</th>\n",
       "      <th>Canonical_Smiles</th>\n",
       "      <th>Chirality</th>\n",
       "      <th>First_Approval</th>\n",
       "      <th>Phase</th>\n",
       "      <th>SC_Patent</th>\n",
       "      <th>Synonyms</th>\n",
       "      <th>Withdrawn</th>\n",
       "      <th>...</th>\n",
       "      <th>LogP</th>\n",
       "      <th>RoF</th>\n",
       "      <th>Melting point</th>\n",
       "      <th>Targets</th>\n",
       "      <th>Kinase families</th>\n",
       "      <th>FDA_approved</th>\n",
       "      <th>ID</th>\n",
       "      <th>SMILES</th>\n",
       "      <th>Molecule</th>\n",
       "      <th>Phase (floor)</th>\n",
       "    </tr>\n",
       "  </thead>\n",
       "  <tbody>\n",
       "    <tr>\n",
       "      <th>261</th>\n",
       "      <td></td>\n",
       "      <td>Zhejiang Beta Pharma</td>\n",
       "      <td>CHEMBL2087361</td>\n",
       "      <td>C#Cc1cccc(c1)Nc2c3cc4c(cc3ncn2)OCCOCCOCCO4</td>\n",
       "      <td>Achiral Molecule</td>\n",
       "      <td>2011</td>\n",
       "      <td>4.0</td>\n",
       "      <td>None</td>\n",
       "      <td>BPI-2009 | BPI-2009H | ICOTINIB</td>\n",
       "      <td></td>\n",
       "      <td>...</td>\n",
       "      <td>3.2</td>\n",
       "      <td>0</td>\n",
       "      <td></td>\n",
       "      <td>EGFR</td>\n",
       "      <td>Tyr</td>\n",
       "      <td>N</td>\n",
       "      <td>Icotinib</td>\n",
       "      <td>C#Cc1cccc(Nc2ncnc3cc4c(cc23)OCCOCCOCCO4)c1</td>\n",
       "      <td>&lt;img data-content=\"rdkit/molecule\" src=\"data:image/png;base64,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\" alt=\"Mol\"/&gt;</td>\n",
       "      <td>4</td>\n",
       "    </tr>\n",
       "    <tr>\n",
       "      <th>297</th>\n",
       "      <td></td>\n",
       "      <td>Bukwang Pharmaceutical</td>\n",
       "      <td>nan</td>\n",
       "      <td>N#CC1(CCCC1)c1ccc(cc1)NC(=O)c1cccnc1Nc1cnccc1C</td>\n",
       "      <td>nan</td>\n",
       "      <td>2014</td>\n",
       "      <td>4.0</td>\n",
       "      <td>nan</td>\n",
       "      <td>|CAPECITABINE|ARGET THERAPY|VP-16|ALBUMIN PACL...</td>\n",
       "      <td>|Study NCT03104335 in China was Withdrawn duri...</td>\n",
       "      <td>...</td>\n",
       "      <td>5.1</td>\n",
       "      <td>1</td>\n",
       "      <td></td>\n",
       "      <td>KDR</td>\n",
       "      <td>Tyr</td>\n",
       "      <td>N</td>\n",
       "      <td>Apatinib</td>\n",
       "      <td>Cc1ccncc1Nc1ncccc1C(=O)Nc1ccc(C2(C#N)CCCC2)cc1</td>\n",
       "      <td>&lt;img data-content=\"rdkit/molecule\" src=\"data:image/png;base64,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\" alt=\"Mol\"/&gt;</td>\n",
       "      <td>4</td>\n",
       "    </tr>\n",
       "  </tbody>\n",
       "</table>\n",
       "<p>2 rows × 38 columns</p>\n",
       "</div>"
      ],
      "text/plain": [
       "    BrandName              Applicants      CHEMBL_ID  \\\n",
       "261              Zhejiang Beta Pharma  CHEMBL2087361   \n",
       "297            Bukwang Pharmaceutical            nan   \n",
       "\n",
       "                                   Canonical_Smiles         Chirality  \\\n",
       "261      C#Cc1cccc(c1)Nc2c3cc4c(cc3ncn2)OCCOCCOCCO4  Achiral Molecule   \n",
       "297  N#CC1(CCCC1)c1ccc(cc1)NC(=O)c1cccnc1Nc1cnccc1C               nan   \n",
       "\n",
       "    First_Approval Phase SC_Patent  \\\n",
       "261           2011   4.0      None   \n",
       "297           2014   4.0       nan   \n",
       "\n",
       "                                              Synonyms  \\\n",
       "261                    BPI-2009 | BPI-2009H | ICOTINIB   \n",
       "297  |CAPECITABINE|ARGET THERAPY|VP-16|ALBUMIN PACL...   \n",
       "\n",
       "                                             Withdrawn  ... LogP RoF  \\\n",
       "261                                                     ...  3.2   0   \n",
       "297  |Study NCT03104335 in China was Withdrawn duri...  ...  5.1   1   \n",
       "\n",
       "    Melting point Targets Kinase families FDA_approved        ID  \\\n",
       "261                  EGFR             Tyr            N  Icotinib   \n",
       "297                   KDR             Tyr            N  Apatinib   \n",
       "\n",
       "                                             SMILES  \\\n",
       "261      C#Cc1cccc(Nc2ncnc3cc4c(cc23)OCCOCCOCCO4)c1   \n",
       "297  Cc1ccncc1Nc1ncccc1C(=O)Nc1ccc(C2(C#N)CCCC2)cc1   \n",
       "\n",
       "                                              Molecule Phase (floor)  \n",
       "261  <img data-content=\"rdkit/molecule\" src=\"data:i...             4  \n",
       "297  <img data-content=\"rdkit/molecule\" src=\"data:i...             4  \n",
       "\n",
       "[2 rows x 38 columns]"
      ]
     },
     "execution_count": 12,
     "metadata": {},
     "output_type": "execute_result"
    }
   ],
   "source": [
    "pkidb_df[(pkidb_df[\"First_Approval\"] != \"nan\") & (pkidb_df[\"FDA_approved\"] == \"N\")]"
   ]
  },
  {
   "cell_type": "markdown",
   "id": "c912331f-8743-4495-9303-0d765895a82b",
   "metadata": {},
   "source": [
    "### FDA-approved in 2022?"
   ]
  },
  {
   "cell_type": "code",
   "execution_count": 13,
   "id": "6e2443ee-f97c-4b62-a8b2-9c19db8e2a4c",
   "metadata": {},
   "outputs": [
    {
     "data": {
      "text/html": [
       "<div>\n",
       "<style scoped>\n",
       "    .dataframe tbody tr th:only-of-type {\n",
       "        vertical-align: middle;\n",
       "    }\n",
       "\n",
       "    .dataframe tbody tr th {\n",
       "        vertical-align: top;\n",
       "    }\n",
       "\n",
       "    .dataframe thead th {\n",
       "        text-align: right;\n",
       "    }\n",
       "</style>\n",
       "<table border=\"1\" class=\"dataframe\">\n",
       "  <thead>\n",
       "    <tr style=\"text-align: right;\">\n",
       "      <th></th>\n",
       "      <th>BrandName</th>\n",
       "      <th>Applicants</th>\n",
       "      <th>CHEMBL_ID</th>\n",
       "      <th>Canonical_Smiles</th>\n",
       "      <th>Chirality</th>\n",
       "      <th>First_Approval</th>\n",
       "      <th>Phase</th>\n",
       "      <th>SC_Patent</th>\n",
       "      <th>Synonyms</th>\n",
       "      <th>Withdrawn</th>\n",
       "      <th>...</th>\n",
       "      <th>LogP</th>\n",
       "      <th>RoF</th>\n",
       "      <th>Melting point</th>\n",
       "      <th>Targets</th>\n",
       "      <th>Kinase families</th>\n",
       "      <th>FDA_approved</th>\n",
       "      <th>ID</th>\n",
       "      <th>SMILES</th>\n",
       "      <th>Molecule</th>\n",
       "      <th>Phase (floor)</th>\n",
       "    </tr>\n",
       "  </thead>\n",
       "  <tbody>\n",
       "    <tr>\n",
       "      <th>232</th>\n",
       "      <td></td>\n",
       "      <td>Pfizer</td>\n",
       "      <td>CHEMBL3655081</td>\n",
       "      <td>CCCS(=O)(=O)NC1CC(C1)N(C)c2c3cc[nH]c3ncn2</td>\n",
       "      <td>Single Stereoisomer</td>\n",
       "      <td>2022</td>\n",
       "      <td>4.0</td>\n",
       "      <td>None</td>\n",
       "      <td>|ABROCITINIB|PF-04965842|CIBINQO</td>\n",
       "      <td></td>\n",
       "      <td>...</td>\n",
       "      <td>1.3</td>\n",
       "      <td>0</td>\n",
       "      <td></td>\n",
       "      <td>nan</td>\n",
       "      <td></td>\n",
       "      <td>Y</td>\n",
       "      <td>Abrocitinib</td>\n",
       "      <td>CCCS(=O)(=O)NC1CC(N(C)c2ncnc3[nH]ccc23)C1</td>\n",
       "      <td>&lt;img data-content=\"rdkit/molecule\" src=\"data:image/png;base64,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\" alt=\"Mol\"/&gt;</td>\n",
       "      <td>4</td>\n",
       "    </tr>\n",
       "    <tr>\n",
       "      <th>280</th>\n",
       "      <td></td>\n",
       "      <td>Cell Therapeutics</td>\n",
       "      <td>CHEMBL2035187</td>\n",
       "      <td>c1cc2cc(c1)-c3ccnc(n3)Nc4ccc(c(c4)COC/C=C/COC2...</td>\n",
       "      <td>Achiral Molecule</td>\n",
       "      <td>2022</td>\n",
       "      <td>4.0</td>\n",
       "      <td>None</td>\n",
       "      <td>ONX-0803 | PACRITINIB | SB-1518 | SB1518</td>\n",
       "      <td>|Study NCT02677948 in United States was Withdr...</td>\n",
       "      <td>...</td>\n",
       "      <td>5.0</td>\n",
       "      <td>0</td>\n",
       "      <td></td>\n",
       "      <td>JAK2</td>\n",
       "      <td>Tyr</td>\n",
       "      <td>Y</td>\n",
       "      <td>Pacritinib</td>\n",
       "      <td>C1=C\\COCc2cc(ccc2OCCN2CCCC2)Nc2nccc(n2)-c2cccc...</td>\n",
       "      <td>&lt;img data-content=\"rdkit/molecule\" src=\"data:image/png;base64,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\" alt=\"Mol\"/&gt;</td>\n",
       "      <td>4</td>\n",
       "    </tr>\n",
       "  </tbody>\n",
       "</table>\n",
       "<p>2 rows × 38 columns</p>\n",
       "</div>"
      ],
      "text/plain": [
       "    BrandName         Applicants      CHEMBL_ID  \\\n",
       "232                       Pfizer  CHEMBL3655081   \n",
       "280            Cell Therapeutics  CHEMBL2035187   \n",
       "\n",
       "                                      Canonical_Smiles            Chirality  \\\n",
       "232          CCCS(=O)(=O)NC1CC(C1)N(C)c2c3cc[nH]c3ncn2  Single Stereoisomer   \n",
       "280  c1cc2cc(c1)-c3ccnc(n3)Nc4ccc(c(c4)COC/C=C/COC2...     Achiral Molecule   \n",
       "\n",
       "    First_Approval Phase SC_Patent                                  Synonyms  \\\n",
       "232           2022   4.0      None          |ABROCITINIB|PF-04965842|CIBINQO   \n",
       "280           2022   4.0      None  ONX-0803 | PACRITINIB | SB-1518 | SB1518   \n",
       "\n",
       "                                             Withdrawn  ... LogP RoF  \\\n",
       "232                                                     ...  1.3   0   \n",
       "280  |Study NCT02677948 in United States was Withdr...  ...  5.0   0   \n",
       "\n",
       "    Melting point Targets Kinase families FDA_approved           ID  \\\n",
       "232                   nan                            Y  Abrocitinib   \n",
       "280                  JAK2             Tyr            Y   Pacritinib   \n",
       "\n",
       "                                                SMILES  \\\n",
       "232          CCCS(=O)(=O)NC1CC(N(C)c2ncnc3[nH]ccc23)C1   \n",
       "280  C1=C\\COCc2cc(ccc2OCCN2CCCC2)Nc2nccc(n2)-c2cccc...   \n",
       "\n",
       "                                              Molecule Phase (floor)  \n",
       "232  <img data-content=\"rdkit/molecule\" src=\"data:i...             4  \n",
       "280  <img data-content=\"rdkit/molecule\" src=\"data:i...             4  \n",
       "\n",
       "[2 rows x 38 columns]"
      ]
     },
     "execution_count": 13,
     "metadata": {},
     "output_type": "execute_result"
    }
   ],
   "source": [
    "pkidb_df[(pkidb_df[\"FDA_approved\"] == \"Y\") & (pkidb_df[\"First_Approval\"] == \"2022\")]"
   ]
  },
  {
   "cell_type": "markdown",
   "id": "c3cac539-4122-4172-aeb7-af9d2eb3e453",
   "metadata": {},
   "source": [
    "### Time-series of FDA-approvals"
   ]
  },
  {
   "cell_type": "code",
   "execution_count": 14,
   "id": "3c966af9-4570-4ef0-b029-dcc94ad683db",
   "metadata": {},
   "outputs": [
    {
     "data": {
      "text/plain": [
       "73"
      ]
     },
     "execution_count": 14,
     "metadata": {},
     "output_type": "execute_result"
    }
   ],
   "source": [
    "stats = (\n",
    "    pkidb_df[pkidb_df[\"FDA_approved\"] == \"Y\"][\"First_Approval\"]\n",
    "    .sort_values()\n",
    "    .value_counts(sort=False)\n",
    ")\n",
    "stats.sum()"
   ]
  },
  {
   "cell_type": "code",
   "execution_count": 15,
   "id": "bbabcb38-c987-48cf-a43f-fa77ac2968a8",
   "metadata": {},
   "outputs": [],
   "source": [
    "def format_approval_year_stats(stats):\n",
    "    stats = stats.sort_index()\n",
    "    missing_years = []\n",
    "\n",
    "    for i, year in enumerate(stats.index):\n",
    "\n",
    "        if year == stats.index[-1]:\n",
    "            break\n",
    "\n",
    "        current_year = int(stats.index[i])\n",
    "        next_year = int(stats.index[i+1])\n",
    "        year_gap = next_year - current_year\n",
    "\n",
    "        if year_gap > 1:\n",
    "            ii = 0\n",
    "            for ii in range(1, year_gap):\n",
    "                missing_years.append(current_year + ii)\n",
    "\n",
    "    for missing_year in missing_years:\n",
    "        stats[str(missing_year)] = 0\n",
    "    stats = stats.sort_index()\n",
    "    return stats"
   ]
  },
  {
   "cell_type": "code",
   "execution_count": 16,
   "id": "2f2a858c-1312-4de2-a886-8eed1570ad40",
   "metadata": {},
   "outputs": [],
   "source": [
    "stats = format_approval_year_stats(stats)"
   ]
  },
  {
   "cell_type": "code",
   "execution_count": 33,
   "id": "670cad84-2e0a-4c11-8afb-198a1fc20d46",
   "metadata": {},
   "outputs": [
    {
     "data": {
      "image/png": "[encoded data removed]",
      "text/plain": [
       "<Figure size 576x360 with 1 Axes>"
      ]
     },
     "metadata": {
      "needs_background": "light"
     },
     "output_type": "display_data"
    }
   ],
   "source": [
    "ax = stats.plot(kind=\"bar\", color=\"cornflowerblue\", figsize=(8, 5))\n",
    "ax.set_ylabel(\"Number of kinase inhibitors\")\n",
    "ax.set_xlabel(\"Year of FDA-approval\")\n",
    "ax.set_xticklabels([f\"'{i.get_text()[2:]}\" for i in ax.get_xticklabels()], rotation=0)\n",
    "\n",
    "plt.tight_layout()\n",
    "ax.get_figure().savefig(\"figures/pki_stats_approval_year.png\")"
   ]
  },
  {
   "cell_type": "code",
   "execution_count": 32,
   "id": "9e91e878-6850-4d0e-bea0-7506f81a37ed",
   "metadata": {},
   "outputs": [
    {
     "data": {
      "image/png": "[encoded data removed]",
      "text/plain": [
       "<Figure size 720x360 with 2 Axes>"
      ]
     },
     "metadata": {
      "needs_background": "light"
     },
     "output_type": "display_data"
    }
   ],
   "source": [
    "fig, (ax1, ax2) = plt.subplots(1, 2, figsize=(10, 5), gridspec_kw={'width_ratios': [1, 3]})\n",
    "\n",
    "pkidb_df[\"Phase\"].value_counts(sort=False).plot(kind=\"bar\", color=\"cornflowerblue\", ax=ax1)\n",
    "ax1.set_ylabel(\"Number of kinase inhibitors\")\n",
    "ax1.set_xlabel(\"Clinical phase\")\n",
    "ax1.set_xticklabels([\"0\", \"1\", \"1/2\", \"2\", \"2/3\", \"3\", \"4\"], rotation=0)\n",
    "\n",
    "stats.plot(kind=\"bar\", color=\"cornflowerblue\", ax=ax2)\n",
    "#ax2.set_ylabel(\"Number of kinase inhibitors\")\n",
    "ax2.set_xlabel(\"Year of FDA-approval\")\n",
    "ax2.set_xticklabels([f\"'{i.get_text()[2:]}\" for i in ax2.get_xticklabels()], rotation=0)\n",
    "\n",
    "plt.tight_layout()\n",
    "plt.savefig(\"figures/pki_stats.png\")"
   ]
  },
  {
   "cell_type": "code",
   "execution_count": 19,
   "id": "ee06c8ed-3f3f-45a8-8c7b-0d15b7c4b98c",
   "metadata": {},
   "outputs": [
    {
     "data": {
      "text/plain": [
       "2001     1\n",
       "2002     1\n",
       "2003     2\n",
       "2004     3\n",
       "2005     4\n",
       "2006     6\n",
       "2007     8\n",
       "2008     8\n",
       "2009     9\n",
       "2010     9\n",
       "2011    13\n",
       "2012    19\n",
       "2013    23\n",
       "2014    26\n",
       "2015    31\n",
       "2016    31\n",
       "2017    40\n",
       "2018    48\n",
       "2019    55\n",
       "2020    63\n",
       "2021    71\n",
       "2022    73\n",
       "Name: First_Approval, dtype: int64"
      ]
     },
     "execution_count": 19,
     "metadata": {},
     "output_type": "execute_result"
    }
   ],
   "source": [
    "stats.cumsum()"
   ]
  },
  {
   "cell_type": "code",
   "execution_count": 20,
   "id": "95339fa0-91ef-40c0-bf45-f4bda7be8d4c",
   "metadata": {},
   "outputs": [
    {
     "data": {
      "image/png": "[encoded data removed]",
      "text/plain": [
       "<Figure size 432x288 with 1 Axes>"
      ]
     },
     "metadata": {
      "needs_background": "light"
     },
     "output_type": "display_data"
    }
   ],
   "source": [
    "ax = stats.cumsum().plot(color=\"cornflowerblue\")\n",
    "ax.set_xlabel(\"Number of kinase inhibitors\", {'fontsize': 14})\n",
    "ax.set_ylabel(\"Year of FDA-approval\", {'fontsize': 14})\n",
    "ax;"
   ]
  },
  {
   "cell_type": "markdown",
   "id": "6b1a3287-254c-4ef9-851e-13bd000c1d33",
   "metadata": {},
   "source": [
    "## Compare to BRIMR dataset\n",
    "\n",
    "http://www.brimr.org/PKI/PKIs.htm"
   ]
  },
  {
   "cell_type": "markdown",
   "id": "59363ae9-2a28-47b7-a04b-1adb77b0da49",
   "metadata": {},
   "source": [
    "### BRIMR drugs missing in PKIDB"
   ]
  },
  {
   "cell_type": "code",
   "execution_count": 21,
   "id": "30fbe0d6-e88a-43b9-b4e0-1ac4568184eb",
   "metadata": {},
   "outputs": [
    {
     "data": {
      "text/plain": [
       "{'Everolimus', 'Sirolimus', 'Temsirolimus'}"
      ]
     },
     "execution_count": 21,
     "metadata": {},
     "output_type": "execute_result"
    }
   ],
   "source": [
    "# Missing in PKIDB\n",
    "set(brimr_drugs) - set(pkidb_drugs)"
   ]
  },
  {
   "cell_type": "markdown",
   "id": "ad752cff-ee4f-4929-9303-435c7e31e842",
   "metadata": {},
   "source": [
    "* BRIMR note: Everolimus, sirolimus, and temsirolimus bind to FKBP12 and indirectly inhibit mTOR.\n",
    "* PKIDB note: Between 2001 and 2017, the Food and Drug Administration (FDA) has approved 37 of these, not counting macrocyclic lactones sirolimus, temsirolimus and everolimus."
   ]
  },
  {
   "cell_type": "markdown",
   "id": "d7366f64-342a-488e-b90d-9f28292dfb0f",
   "metadata": {},
   "source": [
    "### PKIDB drugs missing in BRIMR"
   ]
  },
  {
   "cell_type": "code",
   "execution_count": 22,
   "id": "91d0d401-d327-452f-b6eb-e9653d38fb3b",
   "metadata": {},
   "outputs": [
    {
     "data": {
      "text/plain": [
       "{'Alpelisib', 'Copanlisib', 'Duvelisib', 'Idelalisib', 'Umbralisib'}"
      ]
     },
     "execution_count": 22,
     "metadata": {},
     "output_type": "execute_result"
    }
   ],
   "source": [
    "# Missing in BRIMR\n",
    "set(pkidb_drugs) - set(brimr_drugs)"
   ]
  },
  {
   "cell_type": "markdown",
   "id": "db8620cb-a3e5-4907-b724-b87c04ee515b",
   "metadata": {},
   "source": [
    "* All atypical kinases and hence not listed in BRIMR?"
   ]
  }
 ],
 "metadata": {
  "kernelspec": {
   "display_name": "Python 3 (ipykernel)",
   "language": "python",
   "name": "python3"
  },
  "language_info": {
   "codemirror_mode": {
    "name": "ipython",
    "version": 3
   },
   "file_extension": ".py",
   "mimetype": "text/x-python",
   "name": "python",
   "nbconvert_exporter": "python",
   "pygments_lexer": "ipython3",
   "version": "3.9.13"
  }
 },
 "nbformat": 4,
 "nbformat_minor": 5
}
